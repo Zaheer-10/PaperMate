{
 "cells": [
  {
   "cell_type": "markdown",
   "metadata": {},
   "source": [
    "import os\n",
    "from pathlib import Path\n",
    "import pandas as pd\n",
    "\n",
    "# Get the base directory of the Django project\n",
    "base_dir = Path(__file__).resolve().parent.parent.parent\n",
    "\n",
    "# Construct the path to the filtered.csv file\n",
    "csv_file_path = base_dir / 'data' / 'Filtered_arxiv_papers.csv'\n",
    "\n",
    "# Read the CSV file using pandas\n",
    "df = pd.read_csv(csv_file_path)\n",
    "\n",
    "# Now you can work with the DataFrame 'df'\n"
   ]
  },
  {
   "cell_type": "code",
   "execution_count": 30,
   "metadata": {},
   "outputs": [
    {
     "name": "stdout",
     "output_type": "stream",
     "text": [
      "Index(['titles', 'abstracts', 'terms', 'urls', 'ids'], dtype='object')\n"
     ]
    }
   ],
   "source": [
    "import pandas as pd\n",
    "from pathlib import Path\n",
    "\n",
    "\n",
    "# Provide the full path to the filtered.csv file\n",
    "# csv_file_path = r\"C:\\Users\\soulo\\MACHINE_LEARNING\\PaperMate\\data\\Filtered_arxiv_papers.csv\"\n",
    "csv_file_path = Path(r\"C:\\Users\\soulo\\MACHINE_LEARNING\\PaperMate\\data\\Filtered_arxiv_papers.csv\")\n",
    "\n",
    "\n",
    "try:\n",
    "    # Read the CSV file using pandas\n",
    "    df = pd.read_csv(csv_file_path)\n",
    "    # Now you can work with the DataFrame 'df'\n",
    "    print(df.columns)  # Example: Print the first few rows of the DataFrame\n",
    "except FileNotFoundError:\n",
    "    print(f\"File not found at path: {csv_file_path}\")\n"
   ]
  }
 ],
 "metadata": {
  "kernelspec": {
   "display_name": "base",
   "language": "python",
   "name": "python3"
  },
  "language_info": {
   "codemirror_mode": {
    "name": "ipython",
    "version": 3
   },
   "file_extension": ".py",
   "mimetype": "text/x-python",
   "name": "python",
   "nbconvert_exporter": "python",
   "pygments_lexer": "ipython3",
   "version": "3.9.13"
  },
  "orig_nbformat": 4
 },
 "nbformat": 4,
 "nbformat_minor": 2
}
